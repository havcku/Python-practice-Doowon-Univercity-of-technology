{
  "nbformat": 4,
  "nbformat_minor": 0,
  "metadata": {
    "colab": {
      "provenance": [],
      "authorship_tag": "ABX9TyOVYxqA1aDdZz71+uJrHCl4",
      "include_colab_link": true
    },
    "kernelspec": {
      "name": "python3",
      "display_name": "Python 3"
    },
    "language_info": {
      "name": "python"
    }
  },
  "cells": [
    {
      "cell_type": "markdown",
      "metadata": {
        "id": "view-in-github",
        "colab_type": "text"
      },
      "source": [
        "<a href=\"https://colab.research.google.com/github/havcku/Python-web-site-practice-Doowon-Univercity-of-technology/blob/main/untitled.ipynb\" target=\"_parent\"><img src=\"https://colab.research.google.com/assets/colab-badge.svg\" alt=\"Open In Colab\"/></a>"
      ]
    },
    {
      "cell_type": "markdown",
      "source": [
        "##자료형\n",
        "####숫자형\n",
        "정수 : 123, -20, 0\n",
        "실수 : 123, 45, -4321.5, 6, 6.08e9\n",
        "8진수 : 0o456, 0o123\n",
        "16진수 : 0xFF, 0x00, 0x0A\n",
        "\n",
        "파이썬에서 지원하는 데이터 형에는 기본적인 정수형, 실수형, 불형, 문자열과 확장형인 리스트, 튜플 딕셔너리, 집합 등이 있다.\n",
        "\n",
        "숫자형은 소수점 여부에 따라 정수형과 실수형으로 나눌 수 있다.\n",
        "정수형에는 16진수, 8진수, 2진수도 사용할 수 있다. 16진수는 0x나 0X로, 8진수는 0o나 0O로 2진수는 0b나 0B로 표현한다.\n",
        "\n",
        "실수형은 소수점이 있는 데이터이다. 정수형과 실수형 모두 사칙연산을 수행할 수 있고, 제곱을 의미하는 **, 나머지를 구하는 %, 나눈 후 소수점을 버리는 // 연산자도 사용할 수 있다.\n",
        "\n",
        "####불형\n",
        "불형은 참이나 거젓만 저장할 수 있으며, 논리형이라고도 한다.\n",
        "불형은 비교의 결과를 참이나 거짓으로 저장하는 데 사용될 수 있다.\n",
        "\n",
        "####문자열\n",
        "문자열은 abc와 같이 문자집합을 의미하며, 큰따옴표나 작은따옴표로 표현한다.\n",
        "문자열을 그대로 출려하면, 작은따옴표에 묶어 출력되며, print() 함수로 출력하면, 작은따옴표 없이 출력된다. 문자열은 String의 약자인 str로 표현된다.\n",
        "또는 백슬래시 뒤에 큰따옴표나 작은따옴표를 사용해도 글자로 인식한다.\n",
        "문자열을 여러 줄로 넣으려면 중간에 \\n을 삽입하면 된다.\n",
        "큰따옴표나 작은따옴표 3개를 연속해서 묶어도 된다.\n",
        "\n",
        "파이썬에서는 C/C++, 자바 등과 같은 main()함수가 존재하지 않는다. 따라서 코드가 길어지면, 메인코드 부분이 혼란스러운데, main()함수의 효과를 보여 주는 방법을 사용할 수 있다."
      ],
      "metadata": {
        "id": "uKwq08kKrNtv"
      }
    },
    {
      "cell_type": "code",
      "source": [
        "a = 100\n",
        "b = 200\n",
        "result = a + b\n",
        "print(a,  '+'  ,  b,  '='  , result)  \n",
        "result = a - b\n",
        "print(a,  '-'  ,  b,  '='  , result)  \n",
        "result = a * b\n",
        "print(a,  '*'  ,  b,  '='  , result)  \n",
        "result = a / b\n",
        "print(a,  '/'  ,  b,  '='  , result)  "
      ],
      "metadata": {
        "id": "hIsvWDr50TxM"
      },
      "execution_count": null,
      "outputs": []
    },
    {
      "cell_type": "code",
      "source": [
        "##계산기 예제\n",
        "a = int(input(\"첫번째 숫자를 입력해 주세요: \"))\n",
        "b = int(input(\"두번째 숫자를 입력해 주세요: \"))\n",
        "result = a + b\n",
        "print(a, \"+\", b, \"=\" , result)\n",
        "result = a - b\n",
        "print(a, \"-\", b, \"=\" , result)\n",
        "result = a * b\n",
        "print(a, \"*\", b, \"=\" , result)\n",
        "result = a / b\n",
        "print(a, \"/\", b, \"=\" , result)\n",
        "# input 사용 사칙연산 계산기"
      ],
      "metadata": {
        "id": "m39VXMTa0W9G"
      },
      "execution_count": null,
      "outputs": []
    },
    {
      "cell_type": "code",
      "source": [
        "##계산기 예제\n",
        "a = int(input(\"첫번째 숫자를 입력해 주세요: \"))\n",
        "b = int(input(\"두번째 숫자를 입력해 주세요: \"))\n",
        "result = a ** b\n",
        "print(a, \"**\", b, \"=\" , result)\n",
        "result = a // b\n",
        "print(a, \"//\", b, \"=\" , result)\n",
        "result = a % b\n",
        "print(a, \"%\", b, \"=\" , result)\n",
        "# input 사용 제곱 몫 나머지 계산기"
      ],
      "metadata": {
        "id": "vV8sx-Hp0d2e"
      },
      "execution_count": null,
      "outputs": []
    },
    {
      "cell_type": "code",
      "source": [
        "#잘못된 예시 \n",
        "num1 = input(\"숫자입력1:  \")\n",
        "num2 = input(\"숫자입력2:  \")\n",
        "result = num1 + num2\n",
        "print(type(num1))\n",
        "print(num1, \"+\", num2, \"=\", result)\n",
        "# 이렇게하면 num이 스트링으로 잡히기 때문에 int를 넣어줘야한다."
      ],
      "metadata": {
        "id": "xwGDv1RD0g85"
      },
      "execution_count": null,
      "outputs": []
    },
    {
      "cell_type": "code",
      "source": [
        "a = input(\"이름을 입력해주세요: \")\n",
        "b = input(\"전화번호를 입력해주세요: \")\n",
        "c = int(input(\"무게를 입력해주세요 (g단위) \"))\n",
        "result = c*10\n",
        "print(\"이름은\", a, \"전화번호는\",  b , \"무게에 따른 금액은\", result  ,\"입니다\")"
      ],
      "metadata": {
        "id": "um5_acQG0j1i"
      },
      "execution_count": null,
      "outputs": []
    },
    {
      "cell_type": "code",
      "source": [
        "a = 10  \n",
        "    b = 20 \n",
        "    c = a + b  \n",
        "    d = b - a\n",
        "    print(c, d)"
      ],
      "metadata": {
        "id": "PJfZ-ydBv9nE"
      },
      "execution_count": null,
      "outputs": []
    },
    {
      "cell_type": "code",
      "source": [
        "a = 10\n",
        "b = 3\n",
        " #나눗셈\n",
        "c = a/b  #  나눗셈  \n",
        "d = a//b  #  몫  \n",
        "e = a%b  #  나머지 \n",
        " # 곱셈\n",
        "f = a*b \n",
        "g = a**b #제곱\n",
        "print(c,d,e,f,g) "
      ],
      "metadata": {
        "id": "4mkRUhqLwD-U"
      },
      "execution_count": null,
      "outputs": []
    },
    {
      "cell_type": "markdown",
      "source": [
        "##연산자\n",
        "####산술연산자\n",
        "= 대입연산자  \n",
        "'+' 더하기\n",
        "'-' 빼기  \n",
        "'*' 곱하기  \n",
        "'/' 나누기  \n",
        "'//' 나누기(몫)  \n",
        "'%' 나머지 값  \n",
        "'**' 제곱  \n",
        "연산자 중에서 어떤 것을 먼저 계산할지를 결정하는 우선순위 개념도 필요하다.\n",
        "\n",
        "문자열이 숫자로 구성되어 있을 때, int()또는 float() 함수를 사용해서 정수나 실수로 변환할 수 있다.\n",
        "반대로 숫자를 문자열로 변환하려면 str()함수를 사용한다."
      ],
      "metadata": {
        "id": "ncVlODXxwAN_"
      }
    },
    {
      "cell_type": "code",
      "source": [
        "myName = \"Sebin Oh\" #낙타표기법 (중간 대문자)\n",
        "my_Name = \"유재혁\" #스네이크 표기법 (_언더바 사용한 것)\n",
        "MyName = 'kiki' # 파스칼 표기법 (앞 대문자)\n",
        "_my_name = \"korea\"\n",
        "MYNAME = \"God is love\"\n",
        "my2name = \"12345\"\n",
        "# 2myname = '9876' 숫자로 시작할 수 없다.\n",
        "# my-name = \"michle\" 위에바가 들어가면 안된다.\n",
        "# my name = \"kiki\" 스페이스바를 쓰면 안된다.\n",
        "myStr = '123' #str\n",
        "myNum = 123 # int\n",
        "\n",
        "print(myStr, myNum)\n",
        "#print(myStr+myNum) 숫자와 문자이기 때문에 합해지지않는다.\n",
        "print(type(myStr))\n",
        "print(type(myNum))"
      ],
      "metadata": {
        "colab": {
          "base_uri": "https://localhost:8080/"
        },
        "id": "L6KmlscHxWSI",
        "outputId": "7ed388fe-05e2-4233-a274-37bb702e7ae0"
      },
      "execution_count": null,
      "outputs": [
        {
          "output_type": "stream",
          "name": "stdout",
          "text": [
            "123 123\n",
            "<class 'str'>\n",
            "<class 'int'>\n"
          ]
        }
      ]
    },
    {
      "cell_type": "markdown",
      "source": [
        "##대입연산자\n",
        "+= -= *= /= //= %= **="
      ],
      "metadata": {
        "id": "pCz54deBxfWQ"
      }
    },
    {
      "cell_type": "code",
      "source": [
        "a = 10\n",
        "a += 5; print(a)\n",
        "a -= 5; print(a)\n",
        "a *= 5; print(a)\n",
        "a /= 5; print(a)\n",
        "a //= 5; print(a)\n",
        "a %= 5; print(a)\n",
        "a **= 5; print(a)"
      ],
      "metadata": {
        "id": "IpaEWjdJyD2Y"
      },
      "execution_count": null,
      "outputs": []
    },
    {
      "cell_type": "markdown",
      "source": [
        "####관계연산자\n",
        "관계 연산자는 비교 연산자라고도 하며 어떤 것이 크거나 작거나 같은지 비교한다 그 결과는 참 아니면 거짓이 된다.  \n",
        "'==' 같다  \n",
        "'!=' 같지않다  \n",
        "'>' 크다  \n",
        "'<' 작다  \n",
        "'>=' 크거나 같다  \n",
        "'<=' 작거나 같다  \n",
        "주로 조건문(if) 이나 반복문(while 문)에서 사용되며, 단독으로는 거의 사용하지 않는다. 일반적으로 참은 True로 거짓은 False로 표시한다."
      ],
      "metadata": {
        "id": "HwJ3aXrByWUJ"
      }
    },
    {
      "cell_type": "code",
      "source": [
        "a,b = 10, 20  \n",
        "print(a==b, a!=b, a>b, a<b, a>=b, a<=b)"
      ],
      "metadata": {
        "id": "lAPWnkM8K7qn"
      },
      "execution_count": null,
      "outputs": []
    },
    {
      "cell_type": "code",
      "source": [
        "#여러개의 변수 할당 \n",
        "x,y,z = \"포도\", \"딸기\", \"수박\"\n",
        "print(x)\n",
        "print(y)\n",
        "print(z)"
      ],
      "metadata": {
        "id": "1VV0-Zqzz8yc"
      },
      "execution_count": null,
      "outputs": []
    },
    {
      "cell_type": "code",
      "source": [
        "a = b = c = \"오렌지\"\n",
        " print(a)\n",
        " print(b)\n",
        " print(c)"
      ],
      "metadata": {
        "id": "ENwptvbb0Gtj"
      },
      "execution_count": null,
      "outputs": []
    },
    {
      "cell_type": "code",
      "source": [
        "fruits = [\"포도\", \"딸기\", \"수박\"]\n",
        "x , y , z = fruits\n",
        "print(x)\n",
        "print(y)\n",
        "print(z)"
      ],
      "metadata": {
        "id": "n1dUAUmq0JIP"
      },
      "execution_count": null,
      "outputs": []
    },
    {
      "cell_type": "code",
      "source": [
        "x = \"Life\"  \n",
        "y = \"is\"  \n",
        "z = \"Beautiful\"  \n",
        "print(x,y,z)\n",
        "print(x+y+z)"
      ],
      "metadata": {
        "id": "1cumjAqD0L28"
      },
      "execution_count": null,
      "outputs": []
    },
    {
      "cell_type": "code",
      "source": [
        "a = 1\n",
        "b = 2\n",
        "c = 3 # \"3\" str 으로 만들면 에러가 난다.\n",
        "print(a,b,c)\n",
        "print(a+b+c)"
      ],
      "metadata": {
        "id": "VG0q2y-v0Of9"
      },
      "execution_count": null,
      "outputs": []
    },
    {
      "cell_type": "markdown",
      "source": [
        "####논리연산자\n",
        "논리 연산자는 주로 여러 가지 조건을 복합해서 사용하는데, and그리고, or또는 not부정 세가지가 있다.  \n",
        "and논리곱  \n",
        "or논리합  \n",
        "not논리부정  "
      ],
      "metadata": {
        "id": "J9wvbw-Y0pNE"
      }
    },
    {
      "cell_type": "code",
      "source": [
        "a = 99\n",
        "(a > 100) and (a < 200)\n",
        "(a > 100) or (a < 200)\n",
        "not(a==100)"
      ],
      "metadata": {
        "id": "ZkrF9sma1At7"
      },
      "execution_count": null,
      "outputs": []
    },
    {
      "cell_type": "code",
      "source": [
        "#print()서식 출력\n",
        "print(\"%d\" % 123)\n",
        "print(\"%5d\" % 123)  \n",
        "print(\"%05d\" % 123)"
      ],
      "metadata": {
        "id": "8rSPW9Ah_yLS"
      },
      "execution_count": null,
      "outputs": []
    },
    {
      "cell_type": "code",
      "source": [
        "print(\"%f\" % 123.45)//소수표시\n",
        "print(\"%7.1f\" % 123.45)//소수 표시 7자리 확보 후 첫재자리까지 표시\n",
        "print(\"%7.3f\" % 123.45)//소수 표시 7자리 확보 후 셋째자리까지 표시"
      ],
      "metadata": {
        "id": "WBvKwXli_3YE"
      },
      "execution_count": null,
      "outputs": []
    },
    {
      "cell_type": "code",
      "source": [
        "print(\"%s\" % \"대한민국\")//문자 표시\n",
        "print(\"%6s\" % \"대한민국\")//문자 6자리로 표시"
      ],
      "metadata": {
        "id": "QoB7k0cH_8Ta"
      },
      "execution_count": null,
      "outputs": []
    },
    {
      "cell_type": "code",
      "source": [
        "print(\"{0:d} {1:5d} {2:05d}\".format(123,456,789))"
      ],
      "metadata": {
        "id": "PFZ5YklYKrVE"
      },
      "execution_count": null,
      "outputs": []
    },
    {
      "cell_type": "code",
      "source": [
        "print(\"{2:d} {1:5d} {0:05d}\".format(123,456,789))\n",
        "#위 두 예문 중 0과 2의 순서를 바꾸어주었더니\n",
        "#123(0)이 789(2)와 순서가 바뀜을 볼 수 있었다."
      ],
      "metadata": {
        "id": "Ns-L4ITI_7Yl"
      },
      "execution_count": null,
      "outputs": []
    },
    {
      "cell_type": "markdown",
      "source": [
        "##조건문\n",
        "####if문\n",
        "만약 ~라면 이라는 의미처럼 if는 어떤 조건을 내세울 때 사용한다. if 문에서 내세우는 조건의 결과는 참 또는 거짓으로 두가지 뿐이다.  \n",
        "\n",
        "if문은 참일때 실행하고, 거짓일 때는 아무것도 실행하지 않는다.\n",
        "조건식은 주로 마름모 형태를 그리는데, 참이면 문장을 실행하고 거짓이면 아무것도 실행하지 않는다."
      ],
      "metadata": {
        "id": "uGHVWTkS15M6"
      }
    },
    {
      "cell_type": "code",
      "source": [
        "if(123):  \n",
        "  print(\"참이면 보입니다.\")\n",
        "if(0):  \n",
        "  print(\"거짓이면 보입니다\")"
      ],
      "metadata": {
        "id": "OFdK1geD_tyi"
      },
      "execution_count": null,
      "outputs": []
    },
    {
      "cell_type": "code",
      "source": [
        "#동전교환예제\n",
        "bill,c500, c100, c50, c10 = 0,0,0,0,0\n",
        "bill = int(input(\"바꿀돈은?\"))\n",
        "\n",
        "c500 = bill // 500 #몫\n",
        "bill %=500 # bill =bill%500\n",
        "c100 = bill // 100 #몫\n",
        "bill %=100 # bill =bill%100\n",
        "c50 = bill // 50 #몫\n",
        "bill %=50 # bill =bill%50\n",
        "c10 = bill // 10 #몫\n",
        "bill %=10 # bill =bill%10\n",
        "\n",
        "print(\"500원짜리 %d개\" % c500)\n",
        "print(\"100원짜리 %d개\" % c100)\n",
        "print(\"50원짜리 %d개\" % c50)\n",
        "print(\"10원짜리 %d개\" % c10)\n",
        "print(\"잔돈 %d원\" % bill)\n"
      ],
      "metadata": {
        "id": "CyHg5u5MLCU6"
      },
      "execution_count": null,
      "outputs": []
    },
    {
      "cell_type": "code",
      "source": [
        "if(a<100):\n",
        "  print(\"100보다 작음\")\n",
        "else :  \n",
        "  print(\"100보다 크다\")\n",
        "  print(\"프로그램 끝\")"
      ],
      "metadata": {
        "id": "NrQmDJv3LIG_"
      },
      "execution_count": null,
      "outputs": []
    },
    {
      "cell_type": "code",
      "source": [
        "a = 120\n",
        "if(a>50):\n",
        "  if(a<100):\n",
        "    print(\"50<a<100\")\n",
        "  else:\n",
        "    print(\"a>100\")\n",
        "else:\n",
        "  print(\"a<50\")"
      ],
      "metadata": {
        "id": "jygCiOLLLKhX"
      },
      "execution_count": null,
      "outputs": []
    },
    {
      "cell_type": "code",
      "source": [
        "import random\n",
        "\n",
        "number = []\n",
        "for num in range(0,7) : \n",
        "  number. append(random.randrange(1,46))\n",
        "print(\"생성된 리스트\", number)"
      ],
      "metadata": {
        "id": "FpDKRqClLMlZ"
      },
      "execution_count": null,
      "outputs": []
    },
    {
      "cell_type": "code",
      "source": [
        "for i in range(1,9,1):\n",
        "  print(\"%d \" % i, end=\"\")  \n",
        "print(\"\\n\")\n",
        "for i in range(1,9,1):\n",
        "  print(\"\\n%d\" % i, end=\" \")"
      ],
      "metadata": {
        "id": "ci9zGcRALQKR"
      },
      "execution_count": null,
      "outputs": []
    },
    {
      "cell_type": "code",
      "source": [
        "for i in range(0,3,1): #시작값,끝값+1,증가값\n",
        "  print(\"%d 안녕하세요~\" % i) #반복 내용\n",
        "  #print(i)\n",
        "print(\"반갑습니다\")"
      ],
      "metadata": {
        "id": "JNhjrmYDLQ-q"
      },
      "execution_count": null,
      "outputs": []
    },
    {
      "cell_type": "code",
      "source": [
        "#중첩for문\n",
        "i,j,k=0,0,0\n",
        "k= int(input(\"구구단 단수 입력 : \"))\n",
        "for i in range(1,10,1):\n",
        "    print(\"%d x %d = %2d\" % (k,i,k*i))\n",
        "print(\"\")"
      ],
      "metadata": {
        "id": "FDNpCXe2LXSx"
      },
      "execution_count": null,
      "outputs": []
    },
    {
      "cell_type": "code",
      "source": [
        "#구구단 245출력 후 바꿔서 출력\n",
        "m,n=0,0\n",
        "for m in range(1,10,1):\n",
        "  for n in range(2,6,1):\n",
        "      print(\"%d x %d = %2d\" % (n,m,m*n), end='\\t')     \n",
        "  print(\"\")\n",
        "print(\"\\n\")\n",
        "m,n=0,0\n",
        "for m in range(1,10,1):\n",
        "  for n in range(6,10,1):\n",
        "   print(\"%d x %d = %2d\" % (n,m,n*m), end='\\t' )\n",
        "  print(\"\") "
      ],
      "metadata": {
        "id": "ueXO0rUHLZL3"
      },
      "execution_count": null,
      "outputs": []
    },
    {
      "cell_type": "markdown",
      "source": [
        "##인덱스와 슬라이싱\n",
        "####리스트\n",
        "c또는 자바와 같은 프로그래밍 언어는 리스트가 없는데 리스트와 비슷한 개념인 배열array를 사용한다.  \n",
        "리스트는 정수, 문자열, 실수 등 서로 다른 데이터 형도 묶을 수 있지만, 배열은 동일한 데이터 형만 묶을 수 있다는 차이점이 있다. 그러므로 정수 배열은 정수로만 묶어서 사용해야 한다.\n"
      ],
      "metadata": {
        "id": "pFPNIqD5LNQ4"
      }
    },
    {
      "cell_type": "code",
      "source": [
        "L = [0,1,2,3,4,5,6,7,8,9]\n",
        "print(L[1])"
      ],
      "metadata": {
        "id": "HmiIAGYYMHSh"
      },
      "execution_count": null,
      "outputs": []
    },
    {
      "cell_type": "code",
      "source": [
        "L = [0,1,2,3,4,5,6,7,8,9]\n",
        "print(L[-3])"
      ],
      "metadata": {
        "id": "MayIAEN3MLOI"
      },
      "execution_count": null,
      "outputs": []
    },
    {
      "cell_type": "code",
      "source": [
        "L = [0,1,2,3,4,5,6,7,8,9]\n",
        "print(L[0:9])"
      ],
      "metadata": {
        "id": "5jnanqXhMO5R"
      },
      "execution_count": null,
      "outputs": []
    },
    {
      "cell_type": "code",
      "source": [
        "L = [0,1,2,3,4,5,6,7,8,9]\n",
        "print(L[0:9:2])"
      ],
      "metadata": {
        "id": "Dh1g1wOtMQwg"
      },
      "execution_count": null,
      "outputs": []
    },
    {
      "cell_type": "code",
      "source": [
        "L = [0,1,2,3,4,5,6,7,8,9]\n",
        "print(len(L))\n",
        "print(L[len(L)-1])"
      ],
      "metadata": {
        "id": "SNTBVS9IMTTS"
      },
      "execution_count": null,
      "outputs": []
    },
    {
      "cell_type": "code",
      "source": [
        "L = [0,1,2,3,4,5,6,7,8,9]\n",
        "L[0] = 99\n",
        "L[9] = '가나다'\n",
        "L[1] = [1,2,3]\n",
        "print(L)\n",
        "print(L[9])"
      ],
      "metadata": {
        "id": "64LlCmoqMU3w"
      },
      "execution_count": null,
      "outputs": []
    },
    {
      "cell_type": "code",
      "source": [
        "a = [1,2,3]\n",
        "b = [4,5,6]\n",
        "c = a+b\n",
        "print(a+b)\n",
        "print(c)\n",
        "print(a*3)"
      ],
      "metadata": {
        "id": "DXSqzOhmMXMN"
      },
      "execution_count": null,
      "outputs": []
    },
    {
      "cell_type": "code",
      "source": [
        "L = [1,2,3,4,5]\n",
        "print(L)\n",
        "L.append(6) #리스트 뒤에 추가\n",
        "print(L)\n",
        "L.remove(3) #해당 요소값을 삭제\n",
        "print(L)"
      ],
      "metadata": {
        "id": "DQIbcgnPMZEB"
      },
      "execution_count": null,
      "outputs": []
    },
    {
      "cell_type": "code",
      "source": [
        "k='God is love!'\n",
        "print(k[:3])\n",
        "print(k[6:])\n",
        "print(k[-8:-1])"
      ],
      "metadata": {
        "id": "u8mlmiWsMZqS"
      },
      "execution_count": null,
      "outputs": []
    },
    {
      "cell_type": "code",
      "source": [
        "a = ['apple', 'banana', 'cherry']\n",
        "del a[0]\n",
        "print(a)\n",
        "a.clear()  #del a\n",
        "print(a)\n"
      ],
      "metadata": {
        "id": "XKU868bsMema"
      },
      "execution_count": null,
      "outputs": []
    },
    {
      "cell_type": "markdown",
      "source": [
        "리스트명.append(값)으로서 리스트 항목을 하나씩 추가할 수 있다.\n",
        "레인지 함수를 사용하여 빈 리스트를 만들고 싶은 만큼 만들 수 있다.\n"
      ],
      "metadata": {
        "id": "4L2T49PLMgYv"
      }
    },
    {
      "cell_type": "markdown",
      "source": [
        "####튜플\n",
        "리스트와 사용법이 비슷하면서도 다르다. 리스트는 대괄호로 생성하지만, 튜플은 소괄호로 생성한다. 또 튜플은 값을 수정할 수 없으며, 읽기만 가능해 읽기 전용 자료에 저장할 때 사용한다.\n",
        "\n",
        "딕셔너리는 영어사전이나 국어사전처럼 두 값이 한 쌍으로 묶인 자료구조이다. 중괄호로 묶어 사용하며, key와 값의 쌍으로 구성되어 있다."
      ],
      "metadata": {
        "id": "9E-9guP1M8EB"
      }
    },
    {
      "cell_type": "code",
      "source": [
        "f = ['banana','apple', 'Kiwi', 'cherry','Orange']\n",
        "print(len(f))"
      ],
      "metadata": {
        "id": "KZx8H_cZNe8f"
      },
      "execution_count": null,
      "outputs": []
    },
    {
      "cell_type": "code",
      "source": [
        "t = ('apple',)\n",
        "print(t)\n",
        "print(type(t))\n",
        "f = ('banana') #튜플로 인식하기 위해서는 \",\"필요\n",
        "print(f)\n",
        "print(type(f))"
      ],
      "metadata": {
        "id": "K4knWewpNimW"
      },
      "execution_count": null,
      "outputs": []
    },
    {
      "cell_type": "code",
      "source": [
        "f = ('banana','apple', 'Kiwi', 'cherry','Orange')\n",
        "print(f[:4])\n",
        "print(f[2:])"
      ],
      "metadata": {
        "id": "nZDSSySVNmSz"
      },
      "execution_count": null,
      "outputs": []
    },
    {
      "cell_type": "code",
      "source": [
        "f = ('banana','apple', 'Kiwi', 'cherry','Orange')\n",
        "if 'apple' in f :\n",
        "  print(\"Yes, 'apple' is in\")\n",
        "else:\n",
        "    print('No')"
      ],
      "metadata": {
        "id": "76OTX5E0NoHc"
      },
      "execution_count": null,
      "outputs": []
    },
    {
      "cell_type": "code",
      "source": [
        "firm = ['Samsung','LG','SK']\n",
        "tdata = tuple(firm)\n",
        "print(firm)\n",
        "print(tdata)"
      ],
      "metadata": {
        "id": "4xuI6VmFNrba"
      },
      "execution_count": null,
      "outputs": []
    },
    {
      "cell_type": "code",
      "source": [
        "t = ('apple', 'banana', 'cherry', 'kiwi')\n",
        "l = list(t)\n",
        "l.remove('apple')\n",
        "t = tuple(l)\n",
        "print(t)\n",
        "del t\n",
        "# print(t) 삭제가능하지만 삭제후 출력불가"
      ],
      "metadata": {
        "id": "ZYgFxCBMNsMn"
      },
      "execution_count": null,
      "outputs": []
    },
    {
      "cell_type": "code",
      "source": [
        "d = {\n",
        "    'a':1,\n",
        "    'b':2,\n",
        "    'c':3\n",
        "}\n",
        "print(d)\n",
        "print(d.keys())\n",
        "print(d.values())\n",
        "print(d.items())\n"
      ],
      "metadata": {
        "id": "LCasCxf2NxWk"
      },
      "execution_count": null,
      "outputs": []
    },
    {
      "cell_type": "code",
      "source": [
        "car={\n",
        "    'brand' : 'BMW',\n",
        "    'model' : 'GT',\n",
        "    'year' : 1988\n",
        "}\n",
        "print(car)\n",
        "print(len(car))\n",
        "car[\"year\"] = 2000 \n",
        "car[\"item\"] = 123456\n",
        "car.update({\"color\" : \"red\"})\n",
        "print(car)"
      ],
      "metadata": {
        "id": "ftGhMd_lNx8l"
      },
      "execution_count": null,
      "outputs": []
    },
    {
      "cell_type": "code",
      "source": [
        "car={\n",
        "    'brand' : 'BMW',\n",
        "    'model' : 'GT',\n",
        "    'year' : 1988\n",
        "}\n",
        "car.clear() # 비움\n",
        "del car #삭제"
      ],
      "metadata": {
        "id": "uMS5-DU_N0S0"
      },
      "execution_count": null,
      "outputs": []
    },
    {
      "cell_type": "code",
      "source": [
        "\n",
        "car={\n",
        "    'brand' : 'BMW',\n",
        "    'model' : 'GT',\n",
        "    'year' : 1988\n",
        "}\n",
        "myCar = car.copy()\n",
        "print(myCar)"
      ],
      "metadata": {
        "id": "vQuRJf8PN5eF"
      },
      "execution_count": null,
      "outputs": []
    },
    {
      "cell_type": "code",
      "source": [
        "name1 = {\"name\" : \"홍길동\", \"year\":2001}\n",
        "name2 = {\"name\" : \"갑돌이\", \"year\":2010}\n",
        "name3 = {\"name\" : \"감순이\", \"year\":2003}\n",
        "family = {\n",
        "    \"name1\" :name1,\n",
        "    \"name2\" :name2,\n",
        "    \"name3\" :name3\n",
        "}\n",
        "print(family)"
      ],
      "metadata": {
        "id": "7msvmCQ7N75i"
      },
      "execution_count": null,
      "outputs": []
    },
    {
      "cell_type": "code",
      "source": [
        "#중첩if문\n",
        "select, answer, numStr, num1, num2 = 0,0,\"\",0,0\n",
        "\n",
        "select = int(input(\"1.입력한 수식 계산 2.두수의 합계: \"))\n",
        "\n",
        "if select == 1:\n",
        "  numStr = input(\"*** 수식을 입력하세요 : \")\n",
        "  answer = eval(numStr) # 1+2. \"string\"+\"str\"\n",
        "  print(\" %s 결과는 %5.1f입니다. \" %(numStr,answer))\n",
        "elif select == 2:\n",
        "  num1 = int(input(\"*** 첫번째 숫자를 입력하세요 : \"))\n",
        "  num2 = int(input(\"*** 두번째 숫자를 입력하세요 : \"))\n",
        "  for i in range(num1,num2+1):\n",
        "    answer = answer + i\n",
        "  print(\"%d+...+%d는 %d입니다  \" %(num1,num2,answer))\n",
        "else:\n",
        "  print(\"1또는 2만 입력해야 합니다.\")"
      ],
      "metadata": {
        "id": "uhKaR6jZOBuT"
      },
      "execution_count": null,
      "outputs": []
    },
    {
      "cell_type": "code",
      "source": [
        "score = int(input(\"점수를 입력해주세요 : \"))\n",
        "if (score > 100):\n",
        "  print(\"0~100까지의 숫자로 입력하세요\")\n",
        "elif(score >=90):\n",
        "  print(\"점수:%3d A\"%score)\n",
        "elif(score >= 80):\n",
        "  print(\"점수:%3d B\"%score)\n",
        "elif(score >=70):\n",
        "  print(\"점수:%3d C\"%score)\n",
        "elif(score >=60):\n",
        "  print(\"점수:%3d D\"%score)\n",
        "else:\n",
        "  print(\"점수:%3d F\"% score)\n",
        "print(\"학점 입니다.\")"
      ],
      "metadata": {
        "id": "JtUquuOROHHe"
      },
      "execution_count": null,
      "outputs": []
    },
    {
      "cell_type": "code",
      "source": [
        "#for while 문\n",
        "for i in range(0,3,1):\n",
        "  print(\"안녕!\")"
      ],
      "metadata": {
        "id": "tVNeSeq0OMIj"
      },
      "execution_count": null,
      "outputs": []
    },
    {
      "cell_type": "code",
      "source": [
        "for i in range(1,3,1):\n",
        "  for j in range(1,2,1):\n",
        "    print(\"i:%d, j:%d\" %(i,j))"
      ],
      "metadata": {
        "id": "QJZZ8samOSH3"
      },
      "execution_count": null,
      "outputs": []
    },
    {
      "cell_type": "code",
      "source": [
        "i,j = 0,0\n",
        "for i in range(1,10,1):\n",
        "  for j in range(2,10,1):\n",
        "    print(\"%d x %d = %2d\" %(j,i,i*j), end='\\t')\n",
        "  print(\"\")\n",
        "print(\"\\n\")"
      ],
      "metadata": {
        "id": "nc4DMtwiOUKm"
      },
      "execution_count": null,
      "outputs": []
    },
    {
      "cell_type": "code",
      "source": [
        "# Q 1부터 10까지 합계를 while, for문으로\n",
        "i, hap = 0,0\n",
        "for i in range(1,11,1):\n",
        "  hap = hap+i\n",
        "\n",
        "print(\"1부터 10까지의 합계: %d\" %hap)"
      ],
      "metadata": {
        "id": "QMbbfyLFOYeX"
      },
      "execution_count": null,
      "outputs": []
    },
    {
      "cell_type": "code",
      "source": [
        "hap = 0\n",
        "a,b = 0,0\n",
        "while True:\n",
        "  a = int(input(\"덧셈 첫번째 수 입력: \"))\n",
        "  if a==0:\n",
        "    break\n",
        "  b = int(input(\"덧셈 두번째 수 입력: \"))\n",
        "  hap = a + b\n",
        "  print(\"%d + %d = %d\" %(a,b,hap))\n",
        "\n",
        "print(\"break로 탈출\")"
      ],
      "metadata": {
        "id": "0IN-a1apObuL"
      },
      "execution_count": null,
      "outputs": []
    },
    {
      "cell_type": "code",
      "source": [
        "#계산기 만들기\n",
        "def calc(a, b, k):\n",
        "result = 0\n",
        "if k == '+':\n",
        "result = a + b\n",
        "elif k == '-':\n",
        "result = a - b\n",
        "elif k == '*':\n",
        "result = a * b\n",
        "elif k == '/':\n",
        "if b!=0:\n",
        "result = a / b\n",
        "elif k == '**':\n",
        "result = a ** b\n",
        "return result\n",
        "while True:\n",
        "a = int(input(\"첫 번째 숫자를 입력하세요: \"))\n",
        "k = input(\"연산자를 입력하세요 (+, -, *, /, ** 중 택\n",
        "1): \")\n",
        "b = int(input(\"두 번째 숫자를 입력하세요: \"))\n",
        "res = calc(a, b, k)\n",
        "if b==0 and k==\"/\":\n",
        "print(\"0으로 나눌 수 없습니다.\")\n",
        "break\n",
        "else:\n",
        "res))\n",
        "print(\"계산기 :%d%s%d=%d\"%(a,k,b,\n",
        "continue"
      ],
      "metadata": {
        "id": "jEgg3cQNOzIC"
      },
      "execution_count": null,
      "outputs": []
    }
  ]
}